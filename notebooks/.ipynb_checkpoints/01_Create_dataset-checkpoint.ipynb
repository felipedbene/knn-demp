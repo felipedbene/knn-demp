{
 "cells": [
  {
   "cell_type": "code",
   "execution_count": 1,
   "metadata": {},
   "outputs": [],
   "source": [
    "#Copyright Amazon.com, Inc. or its affiliates. All Rights Reserved.\n",
    "#SPDX-License-Identifier: MIT-0"
   ]
  },
  {
   "cell_type": "code",
   "execution_count": 2,
   "metadata": {
    "scrolled": true
   },
   "outputs": [
    {
     "name": "stdout",
     "output_type": "stream",
     "text": [
      "Requirement already satisfied: nltk in /home/ec2-user/anaconda3/envs/python3/lib/python3.6/site-packages (3.4.4)\n",
      "Requirement already satisfied: six in /home/ec2-user/anaconda3/envs/python3/lib/python3.6/site-packages (from nltk) (1.15.0)\n",
      "Collecting jsonlines\n",
      "  Downloading jsonlines-2.0.0-py3-none-any.whl (6.3 kB)\n",
      "Installing collected packages: jsonlines\n",
      "Successfully installed jsonlines-2.0.0\n",
      "Collecting pandarallel\n",
      "  Downloading pandarallel-1.5.2.tar.gz (16 kB)\n",
      "Requirement already satisfied: dill in /home/ec2-user/anaconda3/envs/python3/lib/python3.6/site-packages (from pandarallel) (0.3.3)\n",
      "Building wheels for collected packages: pandarallel\n",
      "  Building wheel for pandarallel (setup.py) ... \u001b[?25ldone\n",
      "\u001b[?25h  Created wheel for pandarallel: filename=pandarallel-1.5.2-py3-none-any.whl size=18384 sha256=76f976dde1ffc8507adf55755d4891e1df44d2b929ec33691ea61e278974fbe9\n",
      "  Stored in directory: /home/ec2-user/.cache/pip/wheels/2f/2c/3d/02269317e8eb74af3d9d7ed857a6d49acd37fd7b9346f38164\n",
      "Successfully built pandarallel\n",
      "Installing collected packages: pandarallel\n",
      "Successfully installed pandarallel-1.5.2\n"
     ]
    }
   ],
   "source": [
    "#Install additional libraries\n",
    "!pip install nltk\n",
    "!pip install jsonlines\n",
    "!pip install pandarallel"
   ]
  },
  {
   "cell_type": "code",
   "execution_count": 3,
   "metadata": {},
   "outputs": [
    {
     "name": "stderr",
     "output_type": "stream",
     "text": [
      "[nltk_data] Downloading package punkt to /home/ec2-user/nltk_data...\n",
      "[nltk_data]   Unzipping tokenizers/punkt.zip.\n",
      "[nltk_data] Downloading package wordnet to /home/ec2-user/nltk_data...\n",
      "[nltk_data]   Unzipping corpora/wordnet.zip.\n"
     ]
    }
   ],
   "source": [
    "#Import libraries and functions\n",
    "import re\n",
    "import pandas as pd\n",
    "import sagemaker\n",
    "from nltk import word_tokenize\n",
    "from nltk.stem import WordNetLemmatizer\n",
    "\n",
    "from search_utils import helpers"
   ]
  },
  {
   "cell_type": "code",
   "execution_count": 4,
   "metadata": {},
   "outputs": [],
   "source": [
    "#Define common variables\n",
    "\n",
    "#Creating a sagemaker session\n",
    "sagemaker_session = sagemaker.Session()\n",
    "\n",
    "#We'll be using the sagemaker default bucket\n",
    "#Feel free to change this to another bucket name and make sure it's the same across all four notebooks\n",
    "bucket_name = sagemaker_session.default_bucket()"
   ]
  },
  {
   "cell_type": "markdown",
   "metadata": {},
   "source": [
    "# 1. Download data"
   ]
  },
  {
   "cell_type": "markdown",
   "metadata": {},
   "source": [
    "We're using the Amazon reviews dataset (https://s3.amazonaws.com/amazon-reviews-pds/readme.html) which is provided under the following licence https://amazon-reviews-pds.s3.amazonaws.com/LICENSE.txt\n",
    "\n",
    "We load 4 datasets from 4 different categories (Electronics, Shoes, Furniture and Toys), we then sample 100k examples from each category, merge the 4 samples and generate a smaller dataset of 100K containing all categories."
   ]
  },
  {
   "cell_type": "code",
   "execution_count": 5,
   "metadata": {},
   "outputs": [
    {
     "name": "stdout",
     "output_type": "stream",
     "text": [
      "download: s3://amazon-reviews-pds/tsv/amazon_reviews_us_Electronics_v1_00.tsv.gz to ../data/amazon_reviews_us_Electronics_v1_00.tsv.gz\n",
      "download: s3://amazon-reviews-pds/tsv/amazon_reviews_us_Shoes_v1_00.tsv.gz to ../data/amazon_reviews_us_Shoes_v1_00.tsv.gz\n",
      "download: s3://amazon-reviews-pds/tsv/amazon_reviews_us_Furniture_v1_00.tsv.gz to ../data/amazon_reviews_us_Furniture_v1_00.tsv.gz\n",
      "download: s3://amazon-reviews-pds/tsv/amazon_reviews_us_Toys_v1_00.tsv.gz to ../data/amazon_reviews_us_Toys_v1_00.tsv.gz\n"
     ]
    }
   ],
   "source": [
    "!mkdir ../data/\n",
    "!aws s3 cp s3://amazon-reviews-pds/tsv/amazon_reviews_us_Electronics_v1_00.tsv.gz ../data/\n",
    "!aws s3 cp s3://amazon-reviews-pds/tsv/amazon_reviews_us_Shoes_v1_00.tsv.gz ../data/\n",
    "!aws s3 cp s3://amazon-reviews-pds/tsv/amazon_reviews_us_Furniture_v1_00.tsv.gz ../data/\n",
    "!aws s3 cp s3://amazon-reviews-pds/tsv/amazon_reviews_us_Toys_v1_00.tsv.gz ../data/"
   ]
  },
  {
   "cell_type": "code",
   "execution_count": 6,
   "metadata": {},
   "outputs": [],
   "source": [
    "!gunzip ../data/amazon_reviews_us_Electronics_v1_00.tsv.gz\n",
    "!gunzip ../data/amazon_reviews_us_Shoes_v1_00.tsv.gz \n",
    "!gunzip ../data/amazon_reviews_us_Furniture_v1_00.tsv.gz\n",
    "!gunzip ../data/amazon_reviews_us_Toys_v1_00.tsv.gz"
   ]
  },
  {
   "cell_type": "markdown",
   "metadata": {},
   "source": [
    "## 1.1 Electronics dataset"
   ]
  },
  {
   "cell_type": "code",
   "execution_count": 7,
   "metadata": {},
   "outputs": [],
   "source": [
    "data_electronics = pd.read_csv(\"../data/amazon_reviews_us_Electronics_v1_00.tsv\", error_bad_lines=False, warn_bad_lines=False, sep=\"\\t\")"
   ]
  },
  {
   "cell_type": "code",
   "execution_count": 8,
   "metadata": {},
   "outputs": [
    {
     "name": "stdout",
     "output_type": "stream",
     "text": [
      "(3091024, 15)\n"
     ]
    }
   ],
   "source": [
    "print(data_electronics.shape)"
   ]
  },
  {
   "cell_type": "code",
   "execution_count": 9,
   "metadata": {},
   "outputs": [],
   "source": [
    "sub_set_electronics = data_electronics[:100000]"
   ]
  },
  {
   "cell_type": "markdown",
   "metadata": {},
   "source": [
    "## 1.2 Shoes dataset"
   ]
  },
  {
   "cell_type": "code",
   "execution_count": 10,
   "metadata": {
    "scrolled": true
   },
   "outputs": [],
   "source": [
    "data_shoes = pd.read_csv(\"../data/amazon_reviews_us_Shoes_v1_00.tsv\", error_bad_lines=False, warn_bad_lines=False, sep=\"\\t\")"
   ]
  },
  {
   "cell_type": "code",
   "execution_count": 11,
   "metadata": {},
   "outputs": [
    {
     "name": "stdout",
     "output_type": "stream",
     "text": [
      "(4358820, 15)\n"
     ]
    }
   ],
   "source": [
    "print(data_shoes.shape)"
   ]
  },
  {
   "cell_type": "code",
   "execution_count": 12,
   "metadata": {},
   "outputs": [],
   "source": [
    "sub_set_shoes = data_shoes[:100000]"
   ]
  },
  {
   "cell_type": "markdown",
   "metadata": {},
   "source": [
    "## 1.3 Furniture dataset"
   ]
  },
  {
   "cell_type": "code",
   "execution_count": 13,
   "metadata": {
    "scrolled": true
   },
   "outputs": [],
   "source": [
    "data_furniture = pd.read_csv(\"../data/amazon_reviews_us_Furniture_v1_00.tsv\", error_bad_lines=False, warn_bad_lines=False, sep=\"\\t\")"
   ]
  },
  {
   "cell_type": "code",
   "execution_count": 14,
   "metadata": {},
   "outputs": [
    {
     "name": "stdout",
     "output_type": "stream",
     "text": [
      "(791673, 15)\n"
     ]
    }
   ],
   "source": [
    "print(data_furniture.shape)"
   ]
  },
  {
   "cell_type": "code",
   "execution_count": 15,
   "metadata": {},
   "outputs": [],
   "source": [
    "sub_set_furniture = data_furniture[:100000]"
   ]
  },
  {
   "cell_type": "markdown",
   "metadata": {},
   "source": [
    "## 1.4 Toys dataset"
   ]
  },
  {
   "cell_type": "code",
   "execution_count": 16,
   "metadata": {
    "scrolled": true
   },
   "outputs": [],
   "source": [
    "data_toys = pd.read_csv(\"../data/amazon_reviews_us_Toys_v1_00.tsv\", error_bad_lines=False, warn_bad_lines=False, sep=\"\\t\")"
   ]
  },
  {
   "cell_type": "code",
   "execution_count": 17,
   "metadata": {},
   "outputs": [
    {
     "name": "stdout",
     "output_type": "stream",
     "text": [
      "(4859607, 15)\n"
     ]
    }
   ],
   "source": [
    "print(data_toys.shape)"
   ]
  },
  {
   "cell_type": "code",
   "execution_count": 18,
   "metadata": {},
   "outputs": [],
   "source": [
    "sub_set_toys = data_toys[:100000]"
   ]
  },
  {
   "cell_type": "markdown",
   "metadata": {},
   "source": [
    "# 2. Merge and process datasets"
   ]
  },
  {
   "cell_type": "code",
   "execution_count": 19,
   "metadata": {},
   "outputs": [],
   "source": [
    "dataset = pd.concat([sub_set_electronics, sub_set_shoes, sub_set_furniture, sub_set_toys])"
   ]
  },
  {
   "cell_type": "code",
   "execution_count": 20,
   "metadata": {},
   "outputs": [],
   "source": [
    "dataset=dataset.rename(columns={\"product_id\":\"id\"})"
   ]
  },
  {
   "cell_type": "code",
   "execution_count": 21,
   "metadata": {},
   "outputs": [
    {
     "data": {
      "text/html": [
       "<div>\n",
       "<style scoped>\n",
       "    .dataframe tbody tr th:only-of-type {\n",
       "        vertical-align: middle;\n",
       "    }\n",
       "\n",
       "    .dataframe tbody tr th {\n",
       "        vertical-align: top;\n",
       "    }\n",
       "\n",
       "    .dataframe thead th {\n",
       "        text-align: right;\n",
       "    }\n",
       "</style>\n",
       "<table border=\"1\" class=\"dataframe\">\n",
       "  <thead>\n",
       "    <tr style=\"text-align: right;\">\n",
       "      <th></th>\n",
       "      <th>marketplace</th>\n",
       "      <th>customer_id</th>\n",
       "      <th>review_id</th>\n",
       "      <th>id</th>\n",
       "      <th>product_parent</th>\n",
       "      <th>product_title</th>\n",
       "      <th>product_category</th>\n",
       "      <th>star_rating</th>\n",
       "      <th>helpful_votes</th>\n",
       "      <th>total_votes</th>\n",
       "      <th>vine</th>\n",
       "      <th>verified_purchase</th>\n",
       "      <th>review_headline</th>\n",
       "      <th>review_body</th>\n",
       "      <th>review_date</th>\n",
       "    </tr>\n",
       "  </thead>\n",
       "  <tbody>\n",
       "    <tr>\n",
       "      <th>0</th>\n",
       "      <td>US</td>\n",
       "      <td>41409413</td>\n",
       "      <td>R2MTG1GCZLR2DK</td>\n",
       "      <td>B00428R89M</td>\n",
       "      <td>112201306</td>\n",
       "      <td>yoomall 5M Antenna WIFI RP-SMA Female to Male ...</td>\n",
       "      <td>Electronics</td>\n",
       "      <td>5.0</td>\n",
       "      <td>0.0</td>\n",
       "      <td>0.0</td>\n",
       "      <td>N</td>\n",
       "      <td>Y</td>\n",
       "      <td>Five Stars</td>\n",
       "      <td>As described.</td>\n",
       "      <td>2015-08-31</td>\n",
       "    </tr>\n",
       "    <tr>\n",
       "      <th>1</th>\n",
       "      <td>US</td>\n",
       "      <td>49668221</td>\n",
       "      <td>R2HBOEM8LE9928</td>\n",
       "      <td>B000068O48</td>\n",
       "      <td>734576678</td>\n",
       "      <td>Hosa GPM-103 3.5mm TRS to 1/4\" TRS Adaptor</td>\n",
       "      <td>Electronics</td>\n",
       "      <td>5.0</td>\n",
       "      <td>0.0</td>\n",
       "      <td>0.0</td>\n",
       "      <td>N</td>\n",
       "      <td>Y</td>\n",
       "      <td>It works as advertising.</td>\n",
       "      <td>It works as advertising.</td>\n",
       "      <td>2015-08-31</td>\n",
       "    </tr>\n",
       "    <tr>\n",
       "      <th>2</th>\n",
       "      <td>US</td>\n",
       "      <td>12338275</td>\n",
       "      <td>R1P4RW1R9FDPEE</td>\n",
       "      <td>B000GGKOG8</td>\n",
       "      <td>614448099</td>\n",
       "      <td>Channel Master Titan 2 Antenna Preamplifier</td>\n",
       "      <td>Electronics</td>\n",
       "      <td>5.0</td>\n",
       "      <td>1.0</td>\n",
       "      <td>1.0</td>\n",
       "      <td>N</td>\n",
       "      <td>Y</td>\n",
       "      <td>Five Stars</td>\n",
       "      <td>Works pissa</td>\n",
       "      <td>2015-08-31</td>\n",
       "    </tr>\n",
       "    <tr>\n",
       "      <th>3</th>\n",
       "      <td>US</td>\n",
       "      <td>38487968</td>\n",
       "      <td>R1EBPM82ENI67M</td>\n",
       "      <td>B000NU4OTA</td>\n",
       "      <td>72265257</td>\n",
       "      <td>LIMTECH Wall charger + USB Hotsync &amp; Charging ...</td>\n",
       "      <td>Electronics</td>\n",
       "      <td>1.0</td>\n",
       "      <td>0.0</td>\n",
       "      <td>0.0</td>\n",
       "      <td>N</td>\n",
       "      <td>Y</td>\n",
       "      <td>One Star</td>\n",
       "      <td>Did not work at all.</td>\n",
       "      <td>2015-08-31</td>\n",
       "    </tr>\n",
       "    <tr>\n",
       "      <th>4</th>\n",
       "      <td>US</td>\n",
       "      <td>23732619</td>\n",
       "      <td>R372S58V6D11AT</td>\n",
       "      <td>B00JOQIO6S</td>\n",
       "      <td>308169188</td>\n",
       "      <td>Skullcandy Air Raid Portable Bluetooth Speaker</td>\n",
       "      <td>Electronics</td>\n",
       "      <td>5.0</td>\n",
       "      <td>1.0</td>\n",
       "      <td>1.0</td>\n",
       "      <td>N</td>\n",
       "      <td>Y</td>\n",
       "      <td>Overall pleased with the item</td>\n",
       "      <td>Works well. Bass is somewhat lacking but is pr...</td>\n",
       "      <td>2015-08-31</td>\n",
       "    </tr>\n",
       "  </tbody>\n",
       "</table>\n",
       "</div>"
      ],
      "text/plain": [
       "  marketplace  customer_id       review_id          id  product_parent  \\\n",
       "0          US     41409413  R2MTG1GCZLR2DK  B00428R89M       112201306   \n",
       "1          US     49668221  R2HBOEM8LE9928  B000068O48       734576678   \n",
       "2          US     12338275  R1P4RW1R9FDPEE  B000GGKOG8       614448099   \n",
       "3          US     38487968  R1EBPM82ENI67M  B000NU4OTA        72265257   \n",
       "4          US     23732619  R372S58V6D11AT  B00JOQIO6S       308169188   \n",
       "\n",
       "                                       product_title product_category  \\\n",
       "0  yoomall 5M Antenna WIFI RP-SMA Female to Male ...      Electronics   \n",
       "1         Hosa GPM-103 3.5mm TRS to 1/4\" TRS Adaptor      Electronics   \n",
       "2        Channel Master Titan 2 Antenna Preamplifier      Electronics   \n",
       "3  LIMTECH Wall charger + USB Hotsync & Charging ...      Electronics   \n",
       "4     Skullcandy Air Raid Portable Bluetooth Speaker      Electronics   \n",
       "\n",
       "   star_rating  helpful_votes  total_votes vine verified_purchase  \\\n",
       "0          5.0            0.0          0.0    N                 Y   \n",
       "1          5.0            0.0          0.0    N                 Y   \n",
       "2          5.0            1.0          1.0    N                 Y   \n",
       "3          1.0            0.0          0.0    N                 Y   \n",
       "4          5.0            1.0          1.0    N                 Y   \n",
       "\n",
       "                 review_headline  \\\n",
       "0                     Five Stars   \n",
       "1       It works as advertising.   \n",
       "2                     Five Stars   \n",
       "3                       One Star   \n",
       "4  Overall pleased with the item   \n",
       "\n",
       "                                         review_body review_date  \n",
       "0                                      As described.  2015-08-31  \n",
       "1                           It works as advertising.  2015-08-31  \n",
       "2                                        Works pissa  2015-08-31  \n",
       "3                               Did not work at all.  2015-08-31  \n",
       "4  Works well. Bass is somewhat lacking but is pr...  2015-08-31  "
      ]
     },
     "execution_count": 21,
     "metadata": {},
     "output_type": "execute_result"
    }
   ],
   "source": [
    "dataset.head()"
   ]
  },
  {
   "cell_type": "code",
   "execution_count": 22,
   "metadata": {},
   "outputs": [
    {
     "name": "stdout",
     "output_type": "stream",
     "text": [
      "Distribution of categories:\n",
      "Shoes          100000\n",
      "Furniture      100000\n",
      "Toys           100000\n",
      "Electronics    100000\n",
      "Name: product_category, dtype: int64\n"
     ]
    }
   ],
   "source": [
    "print(\"Distribution of categories:\")\n",
    "print(dataset[\"product_category\"].value_counts())"
   ]
  },
  {
   "cell_type": "code",
   "execution_count": 26,
   "metadata": {},
   "outputs": [
    {
     "name": "stdout",
     "output_type": "stream",
     "text": [
      "sagemaker-knn-benfelip\n"
     ]
    }
   ],
   "source": [
    "bucket_name=\"sagemaker-knn-benfelip\"\n",
    "helpers.write_dataframe_to_s3(dataset, bucket_name=bucket_name, file_name=\"search_knn_blog/data/raw_data/data.csv\", index=False, header=True)\n",
    "print(bucket_name)"
   ]
  },
  {
   "cell_type": "markdown",
   "metadata": {},
   "source": [
    "# 2. Processing data "
   ]
  },
  {
   "cell_type": "code",
   "execution_count": 28,
   "metadata": {},
   "outputs": [],
   "source": [
    "#Changing column names and making sure there is no null values in the text\n",
    "dataset = dataset.rename(columns={\"product_id\":\"id\"})\n",
    "dataset = dataset[~dataset[\"product_title\"].isnull()]"
   ]
  },
  {
   "cell_type": "code",
   "execution_count": 29,
   "metadata": {},
   "outputs": [],
   "source": [
    "def clean_data(document):\n",
    "    \n",
    "    lemmatizer = WordNetLemmatizer()\n",
    "    \n",
    "    tokens = [t.lower() for t in word_tokenize(document)]\n",
    "    \n",
    "    clean_tokens = []\n",
    "    for t in tokens:\n",
    "        if len(t) >= 3 and re.match(\"^[a-zA-Z]*$\", t):\n",
    "            clean_tokens.append(t)\n",
    "\n",
    "    clean_document = \" \".join(clean_tokens)\n",
    "    \n",
    "    return clean_document"
   ]
  },
  {
   "cell_type": "code",
   "execution_count": 30,
   "metadata": {},
   "outputs": [],
   "source": [
    "#This will take 1-2mins to run\n",
    "dataset[\"processed_title\"] = dataset[\"product_title\"].apply(lambda x : clean_data(x))"
   ]
  },
  {
   "cell_type": "code",
   "execution_count": 31,
   "metadata": {},
   "outputs": [],
   "source": [
    "#Making sure there is no null values after processing..\n",
    "dataset = dataset[~dataset[\"processed_title\"].isnull()]\n",
    "dataset = dataset[dataset[\"processed_title\"]!=\"\"]"
   ]
  },
  {
   "cell_type": "code",
   "execution_count": 32,
   "metadata": {},
   "outputs": [
    {
     "data": {
      "text/html": [
       "<div>\n",
       "<style scoped>\n",
       "    .dataframe tbody tr th:only-of-type {\n",
       "        vertical-align: middle;\n",
       "    }\n",
       "\n",
       "    .dataframe tbody tr th {\n",
       "        vertical-align: top;\n",
       "    }\n",
       "\n",
       "    .dataframe thead th {\n",
       "        text-align: right;\n",
       "    }\n",
       "</style>\n",
       "<table border=\"1\" class=\"dataframe\">\n",
       "  <thead>\n",
       "    <tr style=\"text-align: right;\">\n",
       "      <th></th>\n",
       "      <th>marketplace</th>\n",
       "      <th>customer_id</th>\n",
       "      <th>review_id</th>\n",
       "      <th>id</th>\n",
       "      <th>product_parent</th>\n",
       "      <th>product_title</th>\n",
       "      <th>product_category</th>\n",
       "      <th>star_rating</th>\n",
       "      <th>helpful_votes</th>\n",
       "      <th>total_votes</th>\n",
       "      <th>vine</th>\n",
       "      <th>verified_purchase</th>\n",
       "      <th>review_headline</th>\n",
       "      <th>review_body</th>\n",
       "      <th>review_date</th>\n",
       "      <th>processed_title</th>\n",
       "    </tr>\n",
       "  </thead>\n",
       "  <tbody>\n",
       "    <tr>\n",
       "      <th>0</th>\n",
       "      <td>US</td>\n",
       "      <td>41409413</td>\n",
       "      <td>R2MTG1GCZLR2DK</td>\n",
       "      <td>B00428R89M</td>\n",
       "      <td>112201306</td>\n",
       "      <td>yoomall 5M Antenna WIFI RP-SMA Female to Male ...</td>\n",
       "      <td>Electronics</td>\n",
       "      <td>5.0</td>\n",
       "      <td>0.0</td>\n",
       "      <td>0.0</td>\n",
       "      <td>N</td>\n",
       "      <td>Y</td>\n",
       "      <td>Five Stars</td>\n",
       "      <td>As described.</td>\n",
       "      <td>2015-08-31</td>\n",
       "      <td>yoomall antenna wifi female male extensionl cable</td>\n",
       "    </tr>\n",
       "    <tr>\n",
       "      <th>1</th>\n",
       "      <td>US</td>\n",
       "      <td>49668221</td>\n",
       "      <td>R2HBOEM8LE9928</td>\n",
       "      <td>B000068O48</td>\n",
       "      <td>734576678</td>\n",
       "      <td>Hosa GPM-103 3.5mm TRS to 1/4\" TRS Adaptor</td>\n",
       "      <td>Electronics</td>\n",
       "      <td>5.0</td>\n",
       "      <td>0.0</td>\n",
       "      <td>0.0</td>\n",
       "      <td>N</td>\n",
       "      <td>Y</td>\n",
       "      <td>It works as advertising.</td>\n",
       "      <td>It works as advertising.</td>\n",
       "      <td>2015-08-31</td>\n",
       "      <td>hosa trs trs adaptor</td>\n",
       "    </tr>\n",
       "    <tr>\n",
       "      <th>2</th>\n",
       "      <td>US</td>\n",
       "      <td>12338275</td>\n",
       "      <td>R1P4RW1R9FDPEE</td>\n",
       "      <td>B000GGKOG8</td>\n",
       "      <td>614448099</td>\n",
       "      <td>Channel Master Titan 2 Antenna Preamplifier</td>\n",
       "      <td>Electronics</td>\n",
       "      <td>5.0</td>\n",
       "      <td>1.0</td>\n",
       "      <td>1.0</td>\n",
       "      <td>N</td>\n",
       "      <td>Y</td>\n",
       "      <td>Five Stars</td>\n",
       "      <td>Works pissa</td>\n",
       "      <td>2015-08-31</td>\n",
       "      <td>channel master titan antenna preamplifier</td>\n",
       "    </tr>\n",
       "    <tr>\n",
       "      <th>3</th>\n",
       "      <td>US</td>\n",
       "      <td>38487968</td>\n",
       "      <td>R1EBPM82ENI67M</td>\n",
       "      <td>B000NU4OTA</td>\n",
       "      <td>72265257</td>\n",
       "      <td>LIMTECH Wall charger + USB Hotsync &amp; Charging ...</td>\n",
       "      <td>Electronics</td>\n",
       "      <td>1.0</td>\n",
       "      <td>0.0</td>\n",
       "      <td>0.0</td>\n",
       "      <td>N</td>\n",
       "      <td>Y</td>\n",
       "      <td>One Star</td>\n",
       "      <td>Did not work at all.</td>\n",
       "      <td>2015-08-31</td>\n",
       "      <td>limtech wall charger usb hotsync charging dock...</td>\n",
       "    </tr>\n",
       "    <tr>\n",
       "      <th>4</th>\n",
       "      <td>US</td>\n",
       "      <td>23732619</td>\n",
       "      <td>R372S58V6D11AT</td>\n",
       "      <td>B00JOQIO6S</td>\n",
       "      <td>308169188</td>\n",
       "      <td>Skullcandy Air Raid Portable Bluetooth Speaker</td>\n",
       "      <td>Electronics</td>\n",
       "      <td>5.0</td>\n",
       "      <td>1.0</td>\n",
       "      <td>1.0</td>\n",
       "      <td>N</td>\n",
       "      <td>Y</td>\n",
       "      <td>Overall pleased with the item</td>\n",
       "      <td>Works well. Bass is somewhat lacking but is pr...</td>\n",
       "      <td>2015-08-31</td>\n",
       "      <td>skullcandy air raid portable bluetooth speaker</td>\n",
       "    </tr>\n",
       "  </tbody>\n",
       "</table>\n",
       "</div>"
      ],
      "text/plain": [
       "  marketplace  customer_id       review_id          id  product_parent  \\\n",
       "0          US     41409413  R2MTG1GCZLR2DK  B00428R89M       112201306   \n",
       "1          US     49668221  R2HBOEM8LE9928  B000068O48       734576678   \n",
       "2          US     12338275  R1P4RW1R9FDPEE  B000GGKOG8       614448099   \n",
       "3          US     38487968  R1EBPM82ENI67M  B000NU4OTA        72265257   \n",
       "4          US     23732619  R372S58V6D11AT  B00JOQIO6S       308169188   \n",
       "\n",
       "                                       product_title product_category  \\\n",
       "0  yoomall 5M Antenna WIFI RP-SMA Female to Male ...      Electronics   \n",
       "1         Hosa GPM-103 3.5mm TRS to 1/4\" TRS Adaptor      Electronics   \n",
       "2        Channel Master Titan 2 Antenna Preamplifier      Electronics   \n",
       "3  LIMTECH Wall charger + USB Hotsync & Charging ...      Electronics   \n",
       "4     Skullcandy Air Raid Portable Bluetooth Speaker      Electronics   \n",
       "\n",
       "   star_rating  helpful_votes  total_votes vine verified_purchase  \\\n",
       "0          5.0            0.0          0.0    N                 Y   \n",
       "1          5.0            0.0          0.0    N                 Y   \n",
       "2          5.0            1.0          1.0    N                 Y   \n",
       "3          1.0            0.0          0.0    N                 Y   \n",
       "4          5.0            1.0          1.0    N                 Y   \n",
       "\n",
       "                 review_headline  \\\n",
       "0                     Five Stars   \n",
       "1       It works as advertising.   \n",
       "2                     Five Stars   \n",
       "3                       One Star   \n",
       "4  Overall pleased with the item   \n",
       "\n",
       "                                         review_body review_date  \\\n",
       "0                                      As described.  2015-08-31   \n",
       "1                           It works as advertising.  2015-08-31   \n",
       "2                                        Works pissa  2015-08-31   \n",
       "3                               Did not work at all.  2015-08-31   \n",
       "4  Works well. Bass is somewhat lacking but is pr...  2015-08-31   \n",
       "\n",
       "                                     processed_title  \n",
       "0  yoomall antenna wifi female male extensionl cable  \n",
       "1                               hosa trs trs adaptor  \n",
       "2          channel master titan antenna preamplifier  \n",
       "3  limtech wall charger usb hotsync charging dock...  \n",
       "4     skullcandy air raid portable bluetooth speaker  "
      ]
     },
     "execution_count": 32,
     "metadata": {},
     "output_type": "execute_result"
    }
   ],
   "source": [
    "dataset.head()"
   ]
  },
  {
   "cell_type": "code",
   "execution_count": 33,
   "metadata": {},
   "outputs": [
    {
     "name": "stdout",
     "output_type": "stream",
     "text": [
      "sagemaker-knn-benfelip\n"
     ]
    }
   ],
   "source": [
    "print(bucket_name)\n",
    "helpers.write_dataframe_to_s3(dataset, bucket_name=bucket_name, file_name=\"search_knn_blog/data/processed_data/data.csv\", index=False, header=True)"
   ]
  }
 ],
 "metadata": {
  "kernelspec": {
   "display_name": "conda_python3",
   "language": "python",
   "name": "conda_python3"
  },
  "language_info": {
   "codemirror_mode": {
    "name": "ipython",
    "version": 3
   },
   "file_extension": ".py",
   "mimetype": "text/x-python",
   "name": "python",
   "nbconvert_exporter": "python",
   "pygments_lexer": "ipython3",
   "version": "3.6.13"
  }
 },
 "nbformat": 4,
 "nbformat_minor": 4
}
